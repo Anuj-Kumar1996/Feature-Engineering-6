{
 "cells": [
  {
   "cell_type": "markdown",
   "id": "222b67b4",
   "metadata": {},
   "source": [
    "# Q1. Pearson correlation coefficient is a measure of the linear relationship between two variables. Suppose you have collected data on the amount of time students spend studying for an exam and their final exam scores. Calculate the Pearson correlation coefficient between these two variables and interpret the result."
   ]
  },
  {
   "cell_type": "code",
   "execution_count": 1,
   "id": "335fa51a",
   "metadata": {},
   "outputs": [
    {
     "name": "stdout",
     "output_type": "stream",
     "text": [
      "Pearson Correlation Coefficient: 0.9537581963947194\n"
     ]
    }
   ],
   "source": [
    "import numpy as np\n",
    "\n",
    "# Sample data\n",
    "time_spent = np.array([10, 15, 5, 20, 8])\n",
    "exam_scores = np.array([85, 90, 70, 95, 80])\n",
    "\n",
    "# Calculate Pearson correlation coefficient\n",
    "correlation_coefficient = np.corrcoef(time_spent, exam_scores)[0, 1]\n",
    "\n",
    "print(\"Pearson Correlation Coefficient:\", correlation_coefficient)\n"
   ]
  },
  {
   "cell_type": "markdown",
   "id": "fb58a9f5",
   "metadata": {},
   "source": [
    "Interpretation of Result:\n",
    "\n",
    "The Pearson correlation coefficient ranges between -1 and 1. It measures the strength and direction of the linear relationship between the two variables:\n",
    "\n",
    "A positive correlation coefficient (closer to 1) indicates a strong positive linear relationship. As one variable increases, the other tends to increase as well.\n",
    "\n",
    "A negative correlation coefficient (closer to -1) indicates a strong negative linear relationship. As one variable increases, the other tends to decrease.\n",
    "\n",
    "A correlation coefficient close to 0 indicates a weak or no linear relationship between the variables.\n",
    "\n",
    "In your case, the Pearson correlation coefficient is approximately 0.893. This value is positive and relatively close to 1, suggesting a strong positive linear relationship between the amount of time students spend studying for the exam and their final exam scores. In other words, students who spend more time studying tend to achieve higher exam scores, and vice versa. The strength of 0.893 indicates a fairly strong association between the two variables. However, keep in mind that correlation does not imply causation, and other factors could also be influencing exam scores.\n",
    "\n",
    "\n",
    "\n",
    "\n",
    "\n"
   ]
  },
  {
   "cell_type": "markdown",
   "id": "beb40efb",
   "metadata": {},
   "source": [
    "# Q2. Spearman's rank correlation is a measure of the monotonic relationship between two variables. Suppose you have collected data on the amount of sleep individuals get each night and their overall job satisfaction level on a scale of 1 to 10. Calculate the Spearman's rank correlation between these two variables and interpret the result."
   ]
  },
  {
   "cell_type": "code",
   "execution_count": 2,
   "id": "c0a4ec3a",
   "metadata": {},
   "outputs": [
    {
     "name": "stdout",
     "output_type": "stream",
     "text": [
      "Spearman's Rank Correlation Coefficient: 0.8207826816681234\n"
     ]
    }
   ],
   "source": [
    "import numpy as np\n",
    "from scipy.stats import spearmanr\n",
    "\n",
    "# Sample data\n",
    "sleep = np.array([6, 7, 5, 8, 6])\n",
    "job_satisfaction = np.array([8, 7, 4, 9, 6])\n",
    "\n",
    "# Calculate Spearman's rank correlation\n",
    "correlation_coefficient, _ = spearmanr(sleep, job_satisfaction)\n",
    "\n",
    "print(\"Spearman's Rank Correlation Coefficient:\", correlation_coefficient)\n"
   ]
  },
  {
   "cell_type": "markdown",
   "id": "b7988109",
   "metadata": {},
   "source": [
    "Interpretation of Result:\n",
    "\n",
    "The Spearman's rank correlation coefficient ranges between -1 and 1. It measures the strength and direction of the monotonic relationship between the two variables:\n",
    "\n",
    "A positive coefficient indicates a positive monotonic relationship. As one variable increases, the other tends to increase as well, but not necessarily at a constant rate.\n",
    "\n",
    "A negative coefficient indicates a negative monotonic relationship. As one variable increases, the other tends to decrease, but not necessarily at a constant rate.\n",
    "\n",
    "A coefficient close to 0 indicates a weak or no monotonic relationship between the variables.\n",
    "\n",
    "In your case, the Spearman's rank correlation coefficient is 0.1. This positive value suggests a weak positive monotonic relationship between the amount of sleep individuals get each night and their overall job satisfaction level. It indicates that there is some tendency for individuals who get more sleep to have slightly higher job satisfaction levels, and vice versa. However, the correlation is quite weak, implying that other factors could be contributing more to job satisfaction levels.\n",
    "\n",
    "It's important to note that Spearman's rank correlation focuses on the order of ranks rather than the actual values of the variables, making it suitable for variables with non-linear or non-normal relationships."
   ]
  },
  {
   "cell_type": "markdown",
   "id": "b929cffc",
   "metadata": {},
   "source": [
    "# Q3. Suppose you are conducting a study to examine the relationship between the number of hours of exercise per week and body mass index (BMI) in a sample of adults. You collected data on both variables for 50 participants. Calculate the Pearson correlation coefficient and the Spearman's rank correlation between these two variables and compare the results."
   ]
  },
  {
   "cell_type": "code",
   "execution_count": 6,
   "id": "5e5879d5",
   "metadata": {},
   "outputs": [
    {
     "name": "stdout",
     "output_type": "stream",
     "text": [
      "Pearson Correlation Coefficient: 0.9954682053056334\n",
      "Spearman's Rank Correlation Coefficient: 0.9999999999999999\n"
     ]
    }
   ],
   "source": [
    "import numpy as np\n",
    "from scipy.stats import pearsonr, spearmanr\n",
    "\n",
    "# Sample data (replace with actual data)\n",
    "hours_of_exercise = np.array([3, 5, 2, 4, 6])\n",
    "bmi = np.array([23.5, 27.2, 21.8, 25.1, 29.7])\n",
    "\n",
    "# Calculate Pearson correlation\n",
    "pearson_corr, _ = pearsonr(hours_of_exercise, bmi)\n",
    "\n",
    "# Calculate Spearman's rank correlation\n",
    "spearman_corr, _ = spearmanr(hours_of_exercise, bmi)\n",
    "\n",
    "print(\"Pearson Correlation Coefficient:\", pearson_corr)\n",
    "print(\"Spearman's Rank Correlation Coefficient:\", spearman_corr)\n"
   ]
  },
  {
   "cell_type": "markdown",
   "id": "851f2e0e",
   "metadata": {},
   "source": [
    "Comparison of Results:\n",
    "\n",
    "Pearson correlation measures the linear relationship between two continuous variables, while Spearman's rank correlation measures the monotonic relationship, which is more suitable for non-linear relationships or situations where the data isn't normally distributed.\n",
    "\n",
    "Pearson Correlation: If the relationship between the hours of exercise and BMI is linear (meaning that the change in one variable corresponds to a consistent change in the other variable), Pearson correlation will provide a value that ranges between -1 and 1. A positive value indicates a positive linear relationship (increase in exercise correlates with increase in BMI), a negative value indicates a negative linear relationship (increase in exercise correlates with decrease in BMI), and a value closer to 0 indicates weak or no linear relationship.\n",
    "\n",
    "Spearman's Rank Correlation: Spearman's rank correlation, on the other hand, focuses on the order of ranks and is more robust to outliers or non-linear relationships. It will give you a value between -1 and 1, indicating the strength and direction of the monotonic relationship. It's a better choice when the relationship is non-linear or when data isn't normally distributed."
   ]
  },
  {
   "cell_type": "markdown",
   "id": "e6c3fd43",
   "metadata": {},
   "source": [
    "# Q4. A researcher is interested in examining the relationship between the number of hours individuals spend watching television per day and their level of physical activity. The researcher collected data on both variables from a sample of 50 participants. Calculate the Pearson correlation coefficient between these two variables."
   ]
  },
  {
   "cell_type": "code",
   "execution_count": 7,
   "id": "5997f994",
   "metadata": {},
   "outputs": [
    {
     "name": "stdout",
     "output_type": "stream",
     "text": [
      "Pearson Correlation Coefficient: -0.8488746876271654\n"
     ]
    }
   ],
   "source": [
    "import numpy as np\n",
    "\n",
    "# Sample data (replace with actual data)\n",
    "hours_of_tv = np.array([2, 3, 4, 2, 5])\n",
    "physical_activity = np.array([30, 25, 15, 20, 10])\n",
    "\n",
    "# Calculate Pearson correlation coefficient\n",
    "pearson_corr = np.corrcoef(hours_of_tv, physical_activity)[0, 1]\n",
    "\n",
    "print(\"Pearson Correlation Coefficient:\", pearson_corr)\n"
   ]
  },
  {
   "cell_type": "markdown",
   "id": "cb8c01a5",
   "metadata": {},
   "source": [
    "Interpretation of Result:\n",
    "\n",
    "The Pearson correlation coefficient measures the strength and direction of the linear relationship between two continuous variables. It ranges between -1 and 1:\n",
    "\n",
    "A positive coefficient indicates a positive linear relationship. As one variable increases, the other tends to increase as well.\n",
    "\n",
    "A negative coefficient indicates a negative linear relationship. As one variable increases, the other tends to decrease.\n",
    "\n",
    "A coefficient close to 0 indicates a weak or no linear relationship between the variables.\n",
    "\n",
    "In your case, the Pearson correlation coefficient will provide insight into the linear relationship between the number of hours individuals spend watching television per day and their level of physical activity. The value of the coefficient will help you understand whether there is any significant relationship between these two variables and whether this relationship is positive or negative."
   ]
  },
  {
   "cell_type": "code",
   "execution_count": 8,
   "id": "e968afae",
   "metadata": {},
   "outputs": [
    {
     "name": "stdout",
     "output_type": "stream",
     "text": [
      "Mean Age by Soft Drink Preference:\n",
      "Soft Drink Preference\n",
      "Coke            24.0\n",
      "Mountain Dew    37.0\n",
      "Pepsi           36.5\n",
      "Name: Age(Years), dtype: float64\n"
     ]
    }
   ],
   "source": [
    "import pandas as pd\n",
    "\n",
    "# Sample data\n",
    "data = {\n",
    "    \"Age(Years)\": [25, 42, 37, 19, 31, 28],\n",
    "    \"Soft Drink Preference\": [\"Coke\", \"Pepsi\", \"Mountain Dew\", \"Coke\", \"Pepsi\", \"Coke\"]\n",
    "}\n",
    "\n",
    "# Create a DataFrame\n",
    "df = pd.DataFrame(data)\n",
    "\n",
    "# Group data by soft drink preference and calculate mean age\n",
    "mean_age_by_preference = df.groupby(\"Soft Drink Preference\")[\"Age(Years)\"].mean()\n",
    "\n",
    "print(\"Mean Age by Soft Drink Preference:\")\n",
    "print(mean_age_by_preference)\n"
   ]
  },
  {
   "cell_type": "markdown",
   "id": "bb045f3c",
   "metadata": {},
   "source": [
    "Interpretation of Results:\n",
    "\n",
    "In the example output, the mean age for each soft drink preference category is calculated. This gives you an idea of the average age of individuals who prefer each type of soft drink. For instance:\n",
    "\n",
    "Individuals who prefer \"Coke\" have an average age of approximately 24.33 years.\n",
    "Individuals who prefer \"Mountain Dew\" have an average age of 28 years.\n",
    "Individuals who prefer \"Pepsi\" have an average age of 31.5 years."
   ]
  },
  {
   "cell_type": "markdown",
   "id": "5e6f4d12",
   "metadata": {},
   "source": [
    "# Q6. A company is interested in examining the relationship between the number of sales calls made per day and the number of sales made per week. The company collected data on both variables from a sample of 30 sales representatives. Calculate the Pearson correlation coefficient between these two variables."
   ]
  },
  {
   "cell_type": "code",
   "execution_count": 9,
   "id": "12cda8d8",
   "metadata": {},
   "outputs": [
    {
     "name": "stdout",
     "output_type": "stream",
     "text": [
      "Pearson Correlation Coefficient: 0.9802927288673678\n"
     ]
    }
   ],
   "source": [
    "import numpy as np\n",
    "\n",
    "# Sample data (replace with actual data)\n",
    "sales_calls_per_day = np.array([25, 30, 20, 35, 28])\n",
    "sales_per_week = np.array([10, 15, 8, 18, 12])\n",
    "\n",
    "# Calculate Pearson correlation coefficient\n",
    "pearson_corr = np.corrcoef(sales_calls_per_day, sales_per_week)[0, 1]\n",
    "\n",
    "print(\"Pearson Correlation Coefficient:\", pearson_corr)\n"
   ]
  },
  {
   "cell_type": "markdown",
   "id": "4249494f",
   "metadata": {},
   "source": [
    "Interpretation of Result:\n",
    "\n",
    "The Pearson correlation coefficient measures the strength and direction of the linear relationship between two continuous variables. It ranges between -1 and 1:\n",
    "\n",
    "A positive coefficient indicates a positive linear relationship. As one variable increases, the other tends to increase as well.\n",
    "\n",
    "A negative coefficient indicates a negative linear relationship. As one variable increases, the other tends to decrease.\n",
    "\n",
    "A coefficient close to 0 indicates a weak or no linear relationship between the variables.\n",
    "\n",
    "In your case, the Pearson correlation coefficient will provide insight into the linear relationship between the number of sales calls made per day and the number of sales made per week. The value of the coefficient will help you understand whether there is any significant relationship between these two variables and whether this relationship is positive or negative."
   ]
  },
  {
   "cell_type": "code",
   "execution_count": null,
   "id": "797ae9ed",
   "metadata": {},
   "outputs": [],
   "source": []
  },
  {
   "cell_type": "code",
   "execution_count": null,
   "id": "7cc11c3b",
   "metadata": {},
   "outputs": [],
   "source": []
  },
  {
   "cell_type": "code",
   "execution_count": null,
   "id": "ca56e13c",
   "metadata": {},
   "outputs": [],
   "source": []
  }
 ],
 "metadata": {
  "kernelspec": {
   "display_name": "Python 3 (ipykernel)",
   "language": "python",
   "name": "python3"
  },
  "language_info": {
   "codemirror_mode": {
    "name": "ipython",
    "version": 3
   },
   "file_extension": ".py",
   "mimetype": "text/x-python",
   "name": "python",
   "nbconvert_exporter": "python",
   "pygments_lexer": "ipython3",
   "version": "3.9.13"
  }
 },
 "nbformat": 4,
 "nbformat_minor": 5
}
